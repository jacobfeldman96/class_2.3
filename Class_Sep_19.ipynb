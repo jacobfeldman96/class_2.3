{
 "cells": [
  {
   "cell_type": "code",
   "execution_count": 1,
   "metadata": {},
   "outputs": [],
   "source": [
    "def main():\n",
    "    print(\"Greetings!\")"
   ]
  },
  {
   "cell_type": "code",
   "execution_count": 2,
   "metadata": {},
   "outputs": [
    {
     "name": "stdout",
     "output_type": "stream",
     "text": [
      "Greetings!\n"
     ]
    }
   ],
   "source": [
    "main()"
   ]
  },
  {
   "cell_type": "code",
   "execution_count": 3,
   "metadata": {},
   "outputs": [],
   "source": [
    "import math"
   ]
  },
  {
   "cell_type": "code",
   "execution_count": 4,
   "metadata": {},
   "outputs": [],
   "source": [
    "def calc():\n",
    "    print(math.pi)"
   ]
  },
  {
   "cell_type": "code",
   "execution_count": 5,
   "metadata": {},
   "outputs": [
    {
     "name": "stdout",
     "output_type": "stream",
     "text": [
      "3.141592653589793\n"
     ]
    }
   ],
   "source": [
    "calc()"
   ]
  },
  {
   "cell_type": "code",
   "execution_count": 53,
   "metadata": {},
   "outputs": [],
   "source": [
    "# Determine the Compound Annual Growth Rate for an investment\n",
    "\n",
    "# Declare a variable beginning_balance as a float\n",
    "beginning_balance = 29000.00\n",
    "# Declare a variable ending_balance as float\n",
    "ending_balance = 45000.00\n",
    "# Declare a variable years as a float\n",
    "years = 1.0\n",
    "# Define a function called calculate_compound_growth_rate with three arguments: beginning_balance, ending_balance, years. Function should output growth_rate.\n",
    "# Call calculate_compound_growth_rate using beginning_balance, ending_balance, and years. Capture as year_one_growth.\n",
    "# Update beginning_balance and ending balance for year two, and then execute calculate_compound_growth_rate\n",
    "# Call calculate_compound_growth_rate using beginning_balance, ending_balance, and years. Capture as year_two_growth.\n",
    "# Update beginning_balance and ending balance for year three, and then execute calculate_compound_growth_rate\n",
    "# Call calculate_compound_growth_rate using beginning_balance, ending_balance, and years. Capture as year_three_growth.\n",
    "# Use Python round() function to round year_one_growth, year_two_growth, and year_three_growth. Capture these as new variables.\n",
    "# Print year_one_growth, year_two_growth, year_three_growth as percents using string formatting\n",
    "# Challenge\n",
    "# Create a global, empty list\n",
    "# Define a function called\n",
    "    # Populate growth_rates list using add() function\n",
    "# Call calculate_compound_growth_rate_list and populate growth_rates with 2016 values (beginning_balance and ending_balance)\n",
    "beginning_balance = 29000.00\n",
    "ending_balance = 45000.00\n",
    "# Call calculate_compound_growth_rate_list and populate growth_rates with 2017 values (beginning_balance and ending_balance)\n",
    "beginning_balance = 45000.00\n",
    "ending_balance = 47000.00\n",
    "# Call calculate_compound_growth_rate_list and populate growth_rates with 2018 values (beginning_balance and ending_balance)\n",
    "beginning_balance = 47000.00\n",
    "ending_balance = 48930.00\n",
    "# Print growth_rates list\n",
    "#print(Growth rates, growth_rates)"
   ]
  },
  {
   "cell_type": "code",
   "execution_count": 44,
   "metadata": {},
   "outputs": [
    {
     "name": "stdout",
     "output_type": "stream",
     "text": [
      "0.55\n"
     ]
    }
   ],
   "source": [
    "def calculate_compound_growth_rate(beginning_balance, ending_balance, years):\n",
    "    rate = ((ending_balance/ beginning_balance)** 1 / years) - 1\n",
    "    \n",
    "    return rate\n",
    "\n",
    "beginning_balance = 29000.00\n",
    "ending_balance = 45000.00\n",
    "years = 1.0\n",
    "\n",
    "year_one_growth = calculate_compound_growth_rate(beginning_balance, ending_balance, years)\n",
    "print(round(year_one_growth, 2))"
   ]
  },
  {
   "cell_type": "code",
   "execution_count": 45,
   "metadata": {},
   "outputs": [
    {
     "name": "stdout",
     "output_type": "stream",
     "text": [
      "-0.48\n"
     ]
    }
   ],
   "source": [
    "beginning_balance = 45000.00\n",
    "ending_balance = 47000.00\n",
    "years = 2.0\n",
    "\n",
    "year_two_growth = calculate_compound_growth_rate(beginning_balance, ending_balance, years)\n",
    "print(round(year_two_growth, 2))"
   ]
  },
  {
   "cell_type": "code",
   "execution_count": 46,
   "metadata": {},
   "outputs": [
    {
     "name": "stdout",
     "output_type": "stream",
     "text": [
      "-0.65\n"
     ]
    }
   ],
   "source": [
    "beginning_balance = 47000.00\n",
    "ending_balance = 48930.00\n",
    "years = 3.0\n",
    "\n",
    "year_three_growth = calculate_compound_growth_rate(beginning_balance, ending_balance, years)\n",
    "print(round(year_three_growth, 2))"
   ]
  },
  {
   "cell_type": "code",
   "execution_count": 47,
   "metadata": {},
   "outputs": [],
   "source": [
    "year_one_growth = 0.55\n",
    "year_two_growth = -0.48\n",
    "year_three_growth = -0.65\n",
    "\n",
    "total_growth = ['year_one_growth', 'year_two_growth', 'year_three_growth']"
   ]
  },
  {
   "cell_type": "code",
   "execution_count": 48,
   "metadata": {},
   "outputs": [
    {
     "name": "stdout",
     "output_type": "stream",
     "text": [
      "year_one_growth\n",
      "year_two_growth\n",
      "year_three_growth\n"
     ]
    }
   ],
   "source": [
    "for i in total_growth:\n",
    "    print(i)"
   ]
  },
  {
   "cell_type": "code",
   "execution_count": 49,
   "metadata": {},
   "outputs": [
    {
     "name": "stdout",
     "output_type": "stream",
     "text": [
      "0.55\n"
     ]
    }
   ],
   "source": [
    "print(year_one_growth)"
   ]
  },
  {
   "cell_type": "code",
   "execution_count": 43,
   "metadata": {},
   "outputs": [
    {
     "name": "stdout",
     "output_type": "stream",
     "text": [
      "Total growth over the three years has been as follows: 55.0%, -48.0%, -65.0%\n"
     ]
    }
   ],
   "source": [
    "year_one_growth = 0.55\n",
    "year_two_growth = -0.48\n",
    "year_three_growth = -0.65\n",
    "\n",
    "print(f'Total growth over the three years has been as follows: {round(year_one_growth * 100, 2)}%, {year_two_growth * 100}%, {year_three_growth * 100}%')"
   ]
  },
  {
   "cell_type": "code",
   "execution_count": 86,
   "metadata": {},
   "outputs": [
    {
     "name": "stdout",
     "output_type": "stream",
     "text": [
      "Compound annual growth rate for 2016: 0.55%\n",
      "Compound annual growth rate for 2017: 0.04%\n",
      "Compound annual growth rate for 2018: 0.04%.\n",
      "Growth rates: []\n"
     ]
    }
   ],
   "source": [
    "# Determine the Compound Annual Growth Rate for an investment\n",
    "\n",
    "# Declare a variable beginning_balance as a float\n",
    "beginning_balance = 29000.00\n",
    "# Declare a variable ending_balance as float\n",
    "ending_balance = 45000.00\n",
    "# Declare a variable years as a float\n",
    "years = 1.0\n",
    "# Define a function called calculate_compound_growth_rate with three arguments: beginning_balance, ending_balance, years. Function should output growth_rate.\n",
    "def calculate_compound_growth_rate(beginning_balance, ending_balance, years):\n",
    "    rate = ((ending_balance/ beginning_balance)** 1 / years) - 1\n",
    "    \n",
    "    return rate\n",
    "\n",
    "# Call calculate_compound_growth_rate using beginning_balance, ending_balance, and years. Capture as year_one_growth.\n",
    "\n",
    "beginning_balance = 29000.00\n",
    "ending_balance = 45000.00\n",
    "years = 1.0\n",
    "\n",
    "year_one_growth = calculate_compound_growth_rate(beginning_balance, ending_balance, years)\n",
    "\n",
    "# Update beginning_balance and ending balance for year two, and then execute calculate_compound_growth_rate\n",
    "\n",
    "beginning_balance = 45000.00\n",
    "ending_balance = 47000.00\n",
    "\n",
    "year_two_growth = calculate_compound_growth_rate(beginning_balance, ending_balance, years)\n",
    "\n",
    "# Call calculate_compound_growth_rate using beginning_balance, ending_balance, and years. Capture as year_two_growth.\n",
    "\n",
    "# Update beginning_balance and ending balance for year three, and then execute calculate_compound_growth_rate\n",
    "\n",
    "beginning_balance = 47000.00\n",
    "ending_balance = 48930.00\n",
    "\n",
    "year_three_growth = calculate_compound_growth_rate(beginning_balance, ending_balance, years)\n",
    "\n",
    "# Use Python round() function to round year_one_growth, year_two_growth, and year_three_growth. Capture these as new variables.\n",
    "year_one_growth = round(year_one_growth, 2)\n",
    "year_two_growth = round(year_two_growth, 2)\n",
    "year_three_growth = round(year_three_growth, 2)\n",
    "# Print year_one_growth, year_two_growth, year_three_growth as percents using string formatting\n",
    "print(F\"Compound annual growth rate for 2016: {round(year_one_growth, 2)}%\") \n",
    "print(F\"Compound annual growth rate for 2017: {year_two_growth}%\") \n",
    "print(F\"Compound annual growth rate for 2018: {year_three_growth}%.\")\n",
    "\n",
    "# Challenge\n",
    "# Create a global, empty list\n",
    "\n",
    "Growth_rates = list()\n",
    "\n",
    "# Define a function called\n",
    "def calculate_compound_growth_rate(beginning_balance, ending_balance, years):\n",
    "    growth_rate = ((ending_balance/ beginning_balance)** 1 / years) - 1\n",
    "    \n",
    "    return growth_rate\n",
    "    \n",
    "    # Populate growth_rates list using add() function\n",
    "    Growth_rates.append(growth_rate)    \n",
    "\n",
    "# Call calculate_compound_growth_rate_list and populate growth_rates with 2016 values (beginning_balance and ending_balance)\n",
    "beginning_balance = 29000.00\n",
    "ending_balance = 45000.00\n",
    "# Call calculate_compound_growth_rate_list and populate growth_rates with 2017 values (beginning_balance and ending_balance)\n",
    "beginning_balance = 45000.00\n",
    "ending_balance = 47000.00\n",
    "# Call calculate_compound_growth_rate_list and populate growth_rates with 2018 values (beginning_balance and ending_balance)\n",
    "beginning_balance = 47000.00\n",
    "ending_balance = 48930.00\n",
    "# Print growth_rates list\n",
    "#print(Growth rates, growth_rates)\n",
    "print(\"Growth rates:\", Growth_rates)\n",
    "# Troubleshoot requried for list "
   ]
  },
  {
   "cell_type": "code",
   "execution_count": 85,
   "metadata": {},
   "outputs": [
    {
     "name": "stdout",
     "output_type": "stream",
     "text": [
      "Hi Tom Bell! Thank you for your business of $0! You are a bronze member!\n",
      "Hi Maggie Johnson! Thank you for your business of $1032! You are a silver member!\n",
      "Hi John Spectre! Thank you for your business of $2543! You are a gold member!\n",
      "Hi Susy Simmons! Thank you for your business of $5322! You are a platinum member!\n"
     ]
    }
   ],
   "source": [
    "\"\"\"Refresher activity.\n",
    "This script will use variables, conditionals, lists, dicts, and functions\n",
    "to print out different greetings for customers based on their\n",
    "business tier (determined by revenue).\n",
    "\"\"\"\n",
    "# List of dicts\n",
    "customers = [\n",
    "    { \"first_name\": \"Tom\", \"last_name\": \"Bell\", \"revenue\": 0 },\n",
    "    { \"first_name\": \"Maggie\", \"last_name\": \"Johnson\", \"revenue\": 1032 },\n",
    "    { \"first_name\": \"John\", \"last_name\": \"Spectre\", \"revenue\": 2543 },\n",
    "    { \"first_name\": \"Susy\", \"last_name\": \"Simmons\", \"revenue\": 5322 }\n",
    "]\n",
    "# @TODO Define a function that accepts a customer first_name, last_name, and revenue and returns a custom greeting with the full name.\n",
    "def create_greeting(first_name, last_name, revenue):\n",
    "   \n",
    "    return create_greeting\n",
    "\n",
    "# Use these ranges to determine the business tier (and corresponding message)for each customer.\n",
    "#   Platinum = 3001+\n",
    "#   Gold = 2001-3000\n",
    "#   Silver = 1001-2000\n",
    "#   Bronze = 0-1000\n",
    "def create_greeting(first_name, last_name, revenue):\n",
    "    \"\"\"Creates a customer greeting based on revenue status:\n",
    "    \n",
    "    Arguments:\n",
    "        first_name (str): The first name of the customer\n",
    "        last_name (str): The last name of the customer\n",
    "        revenue (str): The customer's revenue\n",
    "        \n",
    "      Returns:\n",
    "          A customized greeting string.\n",
    "    \"\"\"\n",
    "\n",
    "    if revenue > 3000:\n",
    "        greeting = F\"Hi {first_name} {last_name}! Thank you for your business of ${revenue}! You are a platinum member!\"\n",
    "    elif (revenue > 2000 and revenue <= 3000):\n",
    "        greeting = F\"Hi {first_name} {last_name}! Thank you for your business of ${revenue}! You are a gold member!\"\n",
    "    elif (revenue > 1000 and revenue <= 2000):\n",
    "        greeting = F\"Hi {first_name} {last_name}! Thank you for your business of ${revenue}! You are a silver member!\"\n",
    "    elif (revenue >= 0 and revenue <= 1000):\n",
    "        greeting = F\"Hi {first_name} {last_name}! Thank you for your business of ${revenue}! You are a bronze member!\"\n",
    "    \n",
    "    return greeting \n",
    "\n",
    "    # @TODO: YOUR CODE HERE!\n",
    "\n",
    "# @TODO: Loop through the list of customers and use your function to print\n",
    "\n",
    "for customer in customers:\n",
    "    greeting = create_greeting(customer['first_name'], customer['last_name'], customer['revenue'])\n",
    "    print(greeting)\n",
    "\n",
    "# custom greetings for each customer.\n",
    "# @TODO: YOUR CODE HERE!"
   ]
  },
  {
   "cell_type": "code",
   "execution_count": 110,
   "metadata": {},
   "outputs": [
    {
     "name": "stdout",
     "output_type": "stream",
     "text": [
      "The bond is selling for $700 and is valued at for $1000.01.\n",
      "A discount of 300.01 exists, therefore you might want to buy the bond\n"
     ]
    }
   ],
   "source": [
    "\"\"\"\n",
    "Zero-Coupon Bond Valuation.\n",
    "This script will calculate the present value of zero-coupon bonds, compare the present value to the price of the bond, and determine the corresponding action (buy, not buy, neutral).\n",
    "\"\"\"\n",
    "# @TODO: Create a function to calculate present value\n",
    "\n",
    "\n",
    "# Intialize the zero-coupon bond parameters, assume compounding period is equal to 1\n",
    "def calculate_future_value(present_value, interest_rate, compounding_periods, years):\n",
    "    \n",
    "    future_value = present_value * (1 + (interest_rate/compounding_periods) ** (compounding_periods * years))\n",
    "    future_value_formatted = round(future_value, 2)\n",
    "    return future_value_formatted\n",
    "\n",
    "def calculate_present_value(future_value, interest_rate, compounding_periods, years):\n",
    "\n",
    "    present_value = future_value * (1 + (interest_rate/compounding_periods) ** (compounding_periods * years))\n",
    "    present_value_formatted = round(present_value, 2)\n",
    "    \n",
    "    return present_value_formatted\n",
    "\n",
    "# Intialize the zero-coupon bond parameters, assume compounding period is equal to 1\n",
    "price = 700\n",
    "future_value = 1000\n",
    "discount_rate = .1\n",
    "compounding_periods = 1\n",
    "years = 5\n",
    "\n",
    "rate_of_inflation = future_value * 0.02\n",
    "\n",
    "# @TODO: Call the calculate_present_value() function and assign to a variable\n",
    "calculated_future_value = calculate_future_value(future_value, interest_rate, compounding_periods, years)\n",
    "money_made = calculated_future_value - present_value - rate_of_inflation\n",
    "\n",
    "# @TODO: Determine if the bond is worth it\n",
    "bond_value = calculate_present_value(future_value, interest_rate, compounding_periods, years)\n",
    "\n",
    "if bond_value > price:\n",
    "    discount = round(bond_value - price, 2)\n",
    "    print(F\"The bond is selling for ${price} and is valued at for ${bond_value}.\")\n",
    "    print(F\"A discount of {discount} exists, therefore you might want to buy the bond\")\n",
    "    \n",
    "elif bond_value < price:\n",
    "    premium = round(price - bond_value, 2)\n",
    "    print(F\"The bond is selling for ${price} and is valued at for ${bond_value}.\")\n",
    "    print(F\"A premium of {premium} exists, therefore you do not want to buy the bond.\")\n",
    "    \n",
    "else:\n",
    "    print(F\"The bond is selling for ${price} and is valued at for ${bond_value}.\")\n",
    "    print(F\"There is neither a premium nor a discount on the bond. The bond is selling for current value\")"
   ]
  },
  {
   "cell_type": "code",
   "execution_count": 113,
   "metadata": {},
   "outputs": [],
   "source": [
    "import numpy"
   ]
  },
  {
   "cell_type": "code",
   "execution_count": 1,
   "metadata": {},
   "outputs": [
    {
     "name": "stdout",
     "output_type": "stream",
     "text": [
      "Requirement already satisfied: numpy in /opt/anaconda3/lib/python3.8/site-packages (1.18.5)\n",
      "Note: you may need to restart the kernel to use updated packages.\n"
     ]
    }
   ],
   "source": [
    "pip install numpy"
   ]
  },
  {
   "cell_type": "code",
   "execution_count": 3,
   "metadata": {},
   "outputs": [
    {
     "name": "stdout",
     "output_type": "stream",
     "text": [
      "Collecting package metadata (current_repodata.json): done\n",
      "Solving environment: failed with initial frozen solve. Retrying with flexible solve.\n",
      "Collecting package metadata (repodata.json): done\n",
      "Solving environment: failed with initial frozen solve. Retrying with flexible solve.\n",
      "\n",
      "PackagesNotFoundError: The following packages are not available from current channels:\n",
      "\n",
      "  - numpy_financial\n",
      "\n",
      "Current channels:\n",
      "\n",
      "  - https://repo.anaconda.com/pkgs/main/osx-64\n",
      "  - https://repo.anaconda.com/pkgs/main/noarch\n",
      "  - https://repo.anaconda.com/pkgs/r/osx-64\n",
      "  - https://repo.anaconda.com/pkgs/r/noarch\n",
      "\n",
      "To search for alternate channels that may provide the conda package you're\n",
      "looking for, navigate to\n",
      "\n",
      "    https://anaconda.org\n",
      "\n",
      "and use the search bar at the top of the page.\n",
      "\n",
      "\n",
      "\n",
      "Note: you may need to restart the kernel to use updated packages.\n"
     ]
    }
   ],
   "source": [
    "conda install numpy_financial"
   ]
  },
  {
   "cell_type": "code",
   "execution_count": 4,
   "metadata": {},
   "outputs": [
    {
     "name": "stdout",
     "output_type": "stream",
     "text": [
      "Collecting package metadata (current_repodata.json): done\n",
      "Solving environment: failed with initial frozen solve. Retrying with flexible solve.\n",
      "Collecting package metadata (repodata.json): done\n",
      "Solving environment: failed with initial frozen solve. Retrying with flexible solve.\n",
      "\n",
      "PackagesNotFoundError: The following packages are not available from current channels:\n",
      "\n",
      "  - functions\n",
      "\n",
      "Current channels:\n",
      "\n",
      "  - https://repo.anaconda.com/pkgs/main/osx-64\n",
      "  - https://repo.anaconda.com/pkgs/main/noarch\n",
      "  - https://repo.anaconda.com/pkgs/r/osx-64\n",
      "  - https://repo.anaconda.com/pkgs/r/noarch\n",
      "\n",
      "To search for alternate channels that may provide the conda package you're\n",
      "looking for, navigate to\n",
      "\n",
      "    https://anaconda.org\n",
      "\n",
      "and use the search bar at the top of the page.\n",
      "\n",
      "\n",
      "\n",
      "Note: you may need to restart the kernel to use updated packages.\n"
     ]
    }
   ],
   "source": [
    "conda install functions"
   ]
  },
  {
   "cell_type": "code",
   "execution_count": 10,
   "metadata": {},
   "outputs": [
    {
     "name": "stdout",
     "output_type": "stream",
     "text": [
      "Requirement already satisfied: numpy_financial in /opt/anaconda3/lib/python3.8/site-packages (1.0.0)\n",
      "Requirement already satisfied: numpy>=1.15 in /opt/anaconda3/lib/python3.8/site-packages (from numpy_financial) (1.18.5)\n",
      "Note: you may need to restart the kernel to use updated packages.\n"
     ]
    }
   ],
   "source": [
    "pip install numpy_financial"
   ]
  },
  {
   "cell_type": "code",
   "execution_count": 11,
   "metadata": {},
   "outputs": [],
   "source": [
    "import numpy_financial as npf"
   ]
  },
  {
   "cell_type": "code",
   "execution_count": 2,
   "metadata": {},
   "outputs": [
    {
     "name": "stdout",
     "output_type": "stream",
     "text": [
      "Collecting functions\n",
      "  Downloading functions-0.7.0.tar.gz (2.7 kB)\n",
      "Building wheels for collected packages: functions\n",
      "  Building wheel for functions (setup.py) ... \u001b[?25ldone\n",
      "\u001b[?25h  Created wheel for functions: filename=functions-0.7.0-py3-none-any.whl size=3064 sha256=0e08d42d99021aa8cef3e32dfe62558596eb9a1dc00701e4950928be0c315932\n",
      "  Stored in directory: /Users/alohawabbit/Library/Caches/pip/wheels/ec/52/2b/537083e6ad806aa9bad0f309ee4bbe0edd888917e03247f7af\n",
      "Successfully built functions\n",
      "Installing collected packages: functions\n",
      "Successfully installed functions-0.7.0\n",
      "Note: you may need to restart the kernel to use updated packages.\n"
     ]
    }
   ],
   "source": [
    "pip install functions"
   ]
  },
  {
   "cell_type": "code",
   "execution_count": 49,
   "metadata": {},
   "outputs": [
    {
     "name": "stdout",
     "output_type": "stream",
     "text": [
      "conservative,[-1000, 400, 400, 400, 400]\n",
      "neutral,401.91926780957544\n"
     ]
    },
    {
     "ename": "ValueError",
     "evalue": "The truth value of an array with more than one element is ambiguous. Use a.any() or a.all()",
     "output_type": "error",
     "traceback": [
      "\u001b[0;31m---------------------------------------------------------------------------\u001b[0m",
      "\u001b[0;31mValueError\u001b[0m                                Traceback (most recent call last)",
      "\u001b[0;32m<ipython-input-49-85bcd179607f>\u001b[0m in \u001b[0;36m<module>\u001b[0;34m\u001b[0m\n\u001b[1;32m     33\u001b[0m         \u001b[0mmax_value\u001b[0m \u001b[0;34m=\u001b[0m \u001b[0mvalue\u001b[0m\u001b[0;34m\u001b[0m\u001b[0;34m\u001b[0m\u001b[0m\n\u001b[1;32m     34\u001b[0m         \u001b[0mmax_key\u001b[0m \u001b[0;34m=\u001b[0m \u001b[0mkey\u001b[0m\u001b[0;34m\u001b[0m\u001b[0;34m\u001b[0m\u001b[0m\n\u001b[0;32m---> 35\u001b[0;31m     \u001b[0;32melif\u001b[0m \u001b[0mvalue\u001b[0m \u001b[0;34m>\u001b[0m \u001b[0mmax_value\u001b[0m\u001b[0;34m:\u001b[0m\u001b[0;34m\u001b[0m\u001b[0;34m\u001b[0m\u001b[0m\n\u001b[0m\u001b[1;32m     36\u001b[0m         \u001b[0mmax_value\u001b[0m \u001b[0;34m=\u001b[0m \u001b[0mvalue\u001b[0m\u001b[0;34m\u001b[0m\u001b[0;34m\u001b[0m\u001b[0m\n\u001b[1;32m     37\u001b[0m         \u001b[0mmax_key\u001b[0m \u001b[0;34m=\u001b[0m \u001b[0mkey\u001b[0m\u001b[0;34m\u001b[0m\u001b[0;34m\u001b[0m\u001b[0m\n",
      "\u001b[0;31mValueError\u001b[0m: The truth value of an array with more than one element is ambiguous. Use a.any() or a.all()"
     ]
    }
   ],
   "source": [
    "\"\"\"Student Activity: Financial Analysis using NPV.\n",
    "This script will choose the optimal project scenario to\n",
    "undertake based on max NPV values.\n",
    "\"\"\"\n",
    "# @TODO: Import the NumPy library\n",
    "import numpy\n",
    "import numpy_financial as npf\n",
    "# Discount Rate\n",
    "discount_rate = .1\n",
    "# Initial Investment, Cash Flow 1, Cash Flow 2, Cash Flow 3, Cash Flow 4\n",
    "cash_flows_conservative = [-1000, 400, 400, 400, 400]\n",
    "cash_flows_neutral = [-1500, 600, 600, 600, 600]\n",
    "cash_flows_aggressive = [-2250, 800, 800, 800, 800]\n",
    "# @TODO: Initialize dictionary to hold NPV return values\n",
    "npv_dict = {\n",
    "    'conservative': [-1000, 400, 400, 400, 400],\n",
    "    'neutral': [-1500, 600, 600, 600, 600],\n",
    "    'aggressive': [-2250, 800, 800, 800, 800]\n",
    "}\n",
    "# @TODO: Calculate the NPV for each scenario\n",
    "npv_dict['neutral'] = npf.npv(discount_rate, cash_flows_neutral)\n",
    "npv_dict['consevative'] = npf.npv(discount_rate, cash_flows_conservative)\n",
    "npv_dict['aggressive'] = npf.npv(discount_rate, cash_flows_aggressive)\n",
    "\n",
    "# @TODO: Manually Choose the project with the highest NPV value\n",
    "max_value = 0 \n",
    "max_key = 0\n",
    "\n",
    "for key, value in npv_dict.items():\n",
    "    print(F'{key},{value}')\n",
    "    \n",
    "    if max_value == 0:\n",
    "        max_value = value\n",
    "        max_key = key\n",
    "    elif value > max_value:\n",
    "        max_value = value\n",
    "        max_key = key\n",
    "        \n",
    "print(\"----------------------------------------------------------------------------------\")\n",
    "print(F\"The project value with the max NPV value is {max_key} with an NPV of {max_value}.\")"
   ]
  },
  {
   "cell_type": "code",
   "execution_count": 53,
   "metadata": {},
   "outputs": [
    {
     "name": "stdout",
     "output_type": "stream",
     "text": [
      "Current Working Directory: /Users/alohawabbit/Jupyter-Workspace\n",
      "List of Best Actors:\n",
      "Nicolas Cage\n",
      "Betty White\n",
      "Gary Busey\n"
     ]
    }
   ],
   "source": [
    "\"\"\"Instructor Demo: File IO.\n",
    "This script will use the Pathlib library to set the file path\n",
    "and Python's built-in open() function to read in a text file. Then\n",
    "write the contents to an output file.\n",
    "\"\"\"\n",
    "# Import from the pathlib library, the main class Path\n",
    "from pathlib import Path\n",
    "\n",
    "# Check the current directory where the Python program is executing from\n",
    "print(f\"Current Working Directory: {Path.cwd()}\")\n",
    "\n",
    "# Set the path normally (Windows)\n",
    "# Set string raw literal due to backslashes acting as escape characters for\n",
    "# the Windows file = r'input.txt'\n",
    "\n",
    "# Set the path normally (Unix)\n",
    "#file = 'input.txt'\n",
    "\n",
    "# Set the input file path irregardless of OS\n",
    "filepath = Path(\"input.txt\")\n",
    "# Open the file in \"read\" mode ('r') and store the\n",
    "# contents in the variable \"text\"\n",
    "\n",
    "with open(filepath, 'r') as file:\n",
    "    # Store all of the text from the file inside a variable called \"text\"\n",
    "    # and print the contexts of the text file\n",
    "    text = file.read()\n",
    "    print(text)\n",
    "   \n",
    "    # Parse and print the file line by line. The print statement adds an\n",
    "    # extra line break to each line in the output.\n",
    "    line_num = 1\n",
    "    for line in file:\n",
    "        print(f\"line {line_num}: {line}\")\n",
    "        line_num += 1\n",
    "\n",
    "# Set the output file path\n",
    "output_path = Path(\"output.txt\")\n",
    "\n",
    "# Open the output_path as a file object in \"write\" mode ('w')\n",
    "# Write a header line and write the contents of 'text' to the file\n",
    "\n",
    "with open(output_path, 'w') as file:\n",
    "    file.write(\"This is an output file.\\n\")\n",
    "    file.write(text)"
   ]
  },
  {
   "cell_type": "code",
   "execution_count": 73,
   "metadata": {},
   "outputs": [
    {
     "name": "stdout",
     "output_type": "stream",
     "text": [
      "Current Working Directory: /Users/alohawabbit/Jupyter-Workspace\n",
      "We are writing something \n",
      "In txt \n",
      "Now we are going to read in Jupyterlab \n"
     ]
    }
   ],
   "source": [
    "\"\"\"Instructor Demo: File IO.\n",
    "This script will use the Pathlib library to set the file path\n",
    "and Python's built-in open() function to read in a text file. Then\n",
    "write the contents to an output file.\n",
    "\"\"\"\n",
    "# Import from the pathlib library, the main class Path\n",
    "from pathlib import Path\n",
    "\n",
    "# Check the current directory where the Python program is executing from\n",
    "print(f\"Current Working Directory: {Path.cwd()}\")\n",
    "\n",
    "# Set the path normally (Windows)\n",
    "# Set string raw literal due to backslashes acting as escape characters for\n",
    "# the Windows file = r'input.txt'\n",
    "\n",
    "# Set the path normally (Unix)\n",
    "#file = 'input.txt'\n",
    "\n",
    "# Set the input file path irregardless of OS\n",
    "filepath = Path(\"test1.txt\")\n",
    "# Open the file in \"read\" mode ('r') and store the\n",
    "# contents in the variable \"text\"\n",
    "\n",
    "with open(filepath, 'r') as file:\n",
    "    # Store all of the text from the file inside a variable called \"text\"\n",
    "    # and print the contexts of the text file\n",
    "    text = file.read()\n",
    "    print(text)\n",
    "   \n",
    "    # Parse and print the file line by line. The print statement adds an\n",
    "    # extra line break to each line in the output.\n",
    "    line_num = 1\n",
    "    for line in file:\n",
    "        print(f\"line {line_num}: {line}\")\n",
    "        line_num += 1\n",
    "\n",
    "# Set the output file path\n",
    "output_path = Path(\"output.txt\")\n",
    "\n",
    "# Open the output_path as a file object in \"write\" mode ('w')\n",
    "# Write a header line and write the contents of 'text' to the file\n",
    "\n",
    "with open(output_path, 'w') as file:\n",
    "    file.write(\"This is an output file.\\n\")\n",
    "    file.write(text)"
   ]
  },
  {
   "cell_type": "code",
   "execution_count": null,
   "metadata": {},
   "outputs": [],
   "source": []
  }
 ],
 "metadata": {
  "kernelspec": {
   "display_name": "Python 3",
   "language": "python",
   "name": "python3"
  },
  "language_info": {
   "codemirror_mode": {
    "name": "ipython",
    "version": 3
   },
   "file_extension": ".py",
   "mimetype": "text/x-python",
   "name": "python",
   "nbconvert_exporter": "python",
   "pygments_lexer": "ipython3",
   "version": "3.8.3"
  }
 },
 "nbformat": 4,
 "nbformat_minor": 4
}
