{
 "cells": [
  {
   "cell_type": "code",
   "execution_count": 17,
   "metadata": {},
   "outputs": [
    {
     "name": "stdout",
     "output_type": "stream",
     "text": [
      "<class '_io.TextIOWrapper'>\n",
      "<class '_csv.reader'>\n",
      "['Max_Salary', 'Min_Salary', 'Avg_Salary'] <----- HEADER\n",
      "['54', '9', '37']\n",
      "['70000', '35000', '35000']\n",
      "0 0 17504.5\n"
     ]
    }
   ],
   "source": [
    "from pathlib import Path\n",
    "import csv\n",
    "\n",
    "csvpath = Path('output.csv')\n",
    "salaries = []\n",
    "line_num = 0\n",
    "\n",
    "with open(csvpath, 'r') as cvsfile: \n",
    "    print(type(cvsfile))\n",
    "    csvreader = csv.reader(cvsfile, delimiter= ',')\n",
    "    print(type(csvreader))\n",
    "    header = next(csvreader)\n",
    "    line_num += 1\n",
    "    print(f\"{header} <----- HEADER\")\n",
    "\n",
    "    for row in csvreader:\n",
    "        print(row)\n",
    "        salary = int(row[1])\n",
    "        salaries.append(salary)\n",
    "    \n",
    "max_salary = 0\n",
    "min_salary = 0\n",
    "avg_salary = 0\n",
    "total_salary = 0\n",
    "count_salary = 0\n",
    "\n",
    "for salary in salaries:\n",
    "    \n",
    "    total_salary += salary\n",
    "    count_salary += 1\n",
    "    \n",
    "    if min_salary == 0:\n",
    "        min_salaray = salary\n",
    "    elif salary > max_salary:\n",
    "        max_salary = salary\n",
    "    elif salary < min_salary:\n",
    "        min_salary = salary\n",
    "        \n",
    "avg_salary = round(total_salary / count_salary, 2)\n",
    "print(max_salary, min_salary, avg_salary)\n",
    "\n",
    "header = [\"Max_Salary\", \"Min_Salary\", \"Avg_Salary\"]\n",
    "metrics = [max_salary, min_salary, avg_salary]\n",
    "\n",
    "output_path = Path('output.csv')\n",
    "\n",
    "with open(output_path, 'w') as csvfile:\n",
    "    csvwriter = csv.writer(csvfile, delimiter= ',')\n",
    "    csvwriter.writerow(header)\n",
    "    csvwriter.writerow(metrics)"
   ]
  },
  {
   "cell_type": "code",
   "execution_count": 5,
   "metadata": {},
   "outputs": [
    {
     "name": "stdout",
     "output_type": "stream",
     "text": [
      "<class '_io.TextIOWrapper'>\n",
      "<class '_csv.reader'>\n",
      "['Max_Salary', 'Min_Salary', 'Avg_Salary'] <---- HEADER\n"
     ]
    }
   ],
   "source": [
    "from pathlib import Path\n",
    "import csv\n",
    "csvpath = Path('output.csv')\n",
    "salaries = []\n",
    "line_num = 0\n",
    "# Open the input path as a file object\n",
    "with open(csvpath, 'r') as csvfile:\n",
    "    print(type(csvfile))\n",
    "    csvreader = csv.reader(csvfile, delimiter=',')\n",
    "    print(type(csvreader))\n",
    "    header = next(csvreader)\n",
    "    line_num += 1\n",
    "    print(f\"{header} <---- HEADER\")"
   ]
  },
  {
   "cell_type": "code",
   "execution_count": 18,
   "metadata": {},
   "outputs": [
    {
     "name": "stdout",
     "output_type": "stream",
     "text": [
      "List of Best Actors:\n",
      "Nicolas Cage\n",
      "Betty White\n",
      "Gary Busey\n"
     ]
    }
   ],
   "source": [
    "from pathlib import Path\n",
    "filepath = Path(\"input.txt\")\n",
    "\n",
    "with open(filepath, 'r') as file:\n",
    "    text = file.read()\n",
    "    print(text)"
   ]
  },
  {
   "cell_type": "code",
   "execution_count": null,
   "metadata": {},
   "outputs": [],
   "source": []
  }
 ],
 "metadata": {
  "kernelspec": {
   "display_name": "Python 3",
   "language": "python",
   "name": "python3"
  },
  "language_info": {
   "codemirror_mode": {
    "name": "ipython",
    "version": 3
   },
   "file_extension": ".py",
   "mimetype": "text/x-python",
   "name": "python",
   "nbconvert_exporter": "python",
   "pygments_lexer": "ipython3",
   "version": "3.8.3"
  }
 },
 "nbformat": 4,
 "nbformat_minor": 4
}
